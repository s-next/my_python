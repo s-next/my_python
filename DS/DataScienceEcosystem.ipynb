{
 "cells": [
  {
   "cell_type": "markdown",
   "id": "171c84a2-7d4b-433b-b0c9-11e865219e14",
   "metadata": {},
   "source": [
    "# Data Science Tools and Ecosystem\n",
    "\n",
    "## In this notebook, Data Science Tools and Ecosystem are summarized.\n",
    "\n",
    "### Some of the popular languages that Data Scientists use are:\n",
    "1. Python\n",
    "2. R\n",
    "3. SQL\n",
    "4. Java"
   ]
  },
  {
   "cell_type": "markdown",
   "id": "60d40c55-2424-4b5f-a422-34b4d7a80664",
   "metadata": {},
   "source": [
    "### Some of the commonly used libraries used by Data Scientists include:\n",
    "1. Numpy\n",
    "2. Matplotlib\n",
    "3. Pandas\n",
    "4. Tensorflow"
   ]
  },
  {
   "cell_type": "markdown",
   "id": "50816add-6ea6-475a-bbdf-77560326fb92",
   "metadata": {},
   "source": [
    "### Data Science Tools\n",
    "\n",
    "| Data Science Tools |\n",
    "| --- |\n",
    "|Jupyter Notebook|\n",
    "|R Studio|\n",
    "|Spark|\n",
    "|||a |a |"
   ]
  },
  {
   "cell_type": "markdown",
   "id": "f0424343-f3e9-4802-9413-e55c1ef5cf70",
   "metadata": {},
   "source": [
    "### Below are a few examples of evaluating arithmetic expressions in Python. |"
   ]
  },
  {
   "cell_type": "code",
   "execution_count": 6,
   "id": "80eccb87-e816-4a4f-a0a7-18680990cf2b",
   "metadata": {},
   "outputs": [
    {
     "data": {
      "text/plain": [
       "17"
      ]
     },
     "execution_count": 6,
     "metadata": {},
     "output_type": "execute_result"
    }
   ],
   "source": [
    "# This a simple arithmetic expression to mutiply then add integers\n",
    "\n",
    "(3*4)+5\n"
   ]
  },
  {
   "cell_type": "code",
   "execution_count": 7,
   "id": "60ced082-f40b-48cb-8cab-f72d74958e0e",
   "metadata": {},
   "outputs": [
    {
     "data": {
      "text/plain": [
       "3.3333333333333335"
      ]
     },
     "execution_count": 7,
     "metadata": {},
     "output_type": "execute_result"
    }
   ],
   "source": [
    "# This will convert 200 minutes to hours by diving by 60\n",
    "\n",
    "200/60\n"
   ]
  },
  {
   "cell_type": "markdown",
   "id": "f13157ce-7350-4416-a850-3304047bc662",
   "metadata": {},
   "source": [
    "### Objectives:\n",
    "* List popular languages for Data Science\n",
    "* Demonstrate aritmetacic calculations\n",
    "* Learn markdown and tables in Jupyter\n",
    "\n",
    "## Author  - Rudra"
   ]
  },
  {
   "cell_type": "code",
   "execution_count": null,
   "id": "e965615f-a669-4236-a8c8-931821efbe8c",
   "metadata": {},
   "outputs": [],
   "source": []
  }
 ],
 "metadata": {
  "kernelspec": {
   "display_name": "Python 3 (ipykernel)",
   "language": "python",
   "name": "python3"
  },
  "language_info": {
   "codemirror_mode": {
    "name": "ipython",
    "version": 3
   },
   "file_extension": ".py",
   "mimetype": "text/x-python",
   "name": "python",
   "nbconvert_exporter": "python",
   "pygments_lexer": "ipython3",
   "version": "3.9.6"
  }
 },
 "nbformat": 4,
 "nbformat_minor": 5
}
